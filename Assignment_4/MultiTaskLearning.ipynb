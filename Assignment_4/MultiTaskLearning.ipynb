{
  "nbformat": 4,
  "nbformat_minor": 0,
  "metadata": {
    "colab": {
      "name": "MultiTaskLearning.ipynb",
      "provenance": [],
      "authorship_tag": "ABX9TyMUWFx+Df7AT1zOG/4ASQeB",
      "include_colab_link": true
    },
    "kernelspec": {
      "name": "python3",
      "display_name": "Python 3"
    },
    "accelerator": "GPU"
  },
  "cells": [
    {
      "cell_type": "markdown",
      "metadata": {
        "id": "view-in-github",
        "colab_type": "text"
      },
      "source": [
        "<a href=\"https://colab.research.google.com/github/Poohi5/CMPE297/blob/master/Assignment_4/MultiTaskLearning.ipynb\" target=\"_parent\"><img src=\"https://colab.research.google.com/assets/colab-badge.svg\" alt=\"Open In Colab\"/></a>"
      ]
    },
    {
      "cell_type": "markdown",
      "metadata": {
        "id": "xPB594XsEmi_"
      },
      "source": [
        "## Multi Task Learning"
      ]
    },
    {
      "cell_type": "markdown",
      "metadata": {
        "id": "uIBGvyS3EpGz"
      },
      "source": [
        "## In this colab, I am referring to [Facial Landmark Detection by Deep Multi-task Learning](http://mmlab.ie.cuhk.edu.hk/projects/TCDCN.html) paper to perform Multi task learning for determine facial landmark localize a series of landmarks, i.e., points of interest on the image (nose, left eye, mouth), and tags, including the age and gender of the person "
      ]
    },
    {
      "cell_type": "code",
      "metadata": {
        "id": "Pqhn-0B39zzY",
        "outputId": "2e90c744-b7f2-47c8-ff85-7dc595dc40a2",
        "colab": {
          "base_uri": "https://localhost:8080/"
        }
      },
      "source": [
        "!pip install tqdm requests --upgrade"
      ],
      "execution_count": 1,
      "outputs": [
        {
          "output_type": "stream",
          "text": [
            "Requirement already up-to-date: tqdm in /usr/local/lib/python3.6/dist-packages (4.51.0)\n",
            "Requirement already up-to-date: requests in /usr/local/lib/python3.6/dist-packages (2.24.0)\n",
            "Requirement already satisfied, skipping upgrade: idna<3,>=2.5 in /usr/local/lib/python3.6/dist-packages (from requests) (2.10)\n",
            "Requirement already satisfied, skipping upgrade: certifi>=2017.4.17 in /usr/local/lib/python3.6/dist-packages (from requests) (2020.6.20)\n",
            "Requirement already satisfied, skipping upgrade: chardet<4,>=3.0.2 in /usr/local/lib/python3.6/dist-packages (from requests) (3.0.4)\n",
            "Requirement already satisfied, skipping upgrade: urllib3!=1.25.0,!=1.25.1,<1.26,>=1.21.1 in /usr/local/lib/python3.6/dist-packages (from requests) (1.24.3)\n"
          ],
          "name": "stdout"
        }
      ]
    },
    {
      "cell_type": "markdown",
      "metadata": {
        "id": "XIcBjxu8CPFQ"
      },
      "source": [
        "### Import Data"
      ]
    },
    {
      "cell_type": "code",
      "metadata": {
        "id": "e0VmUF2nASdg",
        "outputId": "c726e78a-b4ea-46bc-c7db-e62cc32157b4",
        "colab": {
          "base_uri": "https://localhost:8080/"
        }
      },
      "source": [
        "from tqdm import tqdm\n",
        "import requests\n",
        "\n",
        "url = \"http://mmlab.ie.cuhk.edu.hk/projects/TCDCN/data/MTFL.zip\"\n",
        "response = requests.get(url, stream=True)\n",
        "\n",
        "with open(\"MTFL\", \"wb\") as handle:\n",
        "    for data in tqdm(response.iter_content(), unit=' KB'):\n",
        "        handle.write(data)"
      ],
      "execution_count": 2,
      "outputs": [
        {
          "output_type": "stream",
          "text": [
            "150152960 KB [15:33, 160898.21 KB/s]\n"
          ],
          "name": "stderr"
        }
      ]
    },
    {
      "cell_type": "markdown",
      "metadata": {
        "id": "hVdqAo8cC44A"
      },
      "source": [
        "### Unzipping data"
      ]
    },
    {
      "cell_type": "code",
      "metadata": {
        "id": "GlWLC9YSCQnt"
      },
      "source": [
        "import zipfile\n",
        "zip_ref = zipfile.ZipFile('MTFL', 'r')\n",
        "zip_ref.extractall()\n",
        "zip_ref.close()"
      ],
      "execution_count": 3,
      "outputs": []
    },
    {
      "cell_type": "markdown",
      "metadata": {
        "id": "TNkKJ__3FM5P"
      },
      "source": [
        "### Loading the dataset."
      ]
    },
    {
      "cell_type": "markdown",
      "metadata": {
        "id": "lpxoReeSFO1L"
      },
      "source": [
        "##### Loading the text files using pandas"
      ]
    },
    {
      "cell_type": "code",
      "metadata": {
        "id": "vQnExDOGFOa6"
      },
      "source": [
        "import pandas as pd\n",
        "train_data = pd.read_csv('training.txt', sep=' ', header=None, skipinitialspace=True, nrows=10000)\n",
        "test_data = pd.read_csv('testing.txt', sep=' ', header=None, skipinitialspace=True, nrows=2995)"
      ],
      "execution_count": 4,
      "outputs": []
    },
    {
      "cell_type": "markdown",
      "metadata": {
        "id": "RSgtzVwaFVui"
      },
      "source": [
        "##### Lets look at the first row"
      ]
    },
    {
      "cell_type": "code",
      "metadata": {
        "id": "SIFbjobsFfgh",
        "outputId": "7b868a02-61f8-4f30-a2e3-c3c9a4625d66",
        "colab": {
          "base_uri": "https://localhost:8080/"
        }
      },
      "source": [
        "train_data.iloc[0]"
      ],
      "execution_count": 5,
      "outputs": [
        {
          "output_type": "execute_result",
          "data": {
            "text/plain": [
              "0     lfw_5590\\Aaron_Eckhart_0001.jpg\n",
              "1                              107.25\n",
              "2                              147.75\n",
              "3                              126.25\n",
              "4                              106.25\n",
              "5                              140.75\n",
              "6                              108.75\n",
              "7                              113.25\n",
              "8                              143.75\n",
              "9                              158.75\n",
              "10                             162.75\n",
              "11                                  1\n",
              "12                                  2\n",
              "13                                  2\n",
              "14                                  3\n",
              "Name: 0, dtype: object"
            ]
          },
          "metadata": {
            "tags": []
          },
          "execution_count": 5
        }
      ]
    },
    {
      "cell_type": "code",
      "metadata": {
        "id": "XpRnqfHZFlLr"
      },
      "source": [
        "train_data.iloc[:, 0] = train_data.iloc[:, 0].apply(lambda s: s.replace('\\\\', '/')) # Needed for filename convention\n",
        "test_data.iloc[:, 0] = test_data.iloc[:, 0].apply(lambda s: s.replace('\\\\', '/')) # Needed for filename convention"
      ],
      "execution_count": 6,
      "outputs": []
    },
    {
      "cell_type": "markdown",
      "metadata": {
        "id": "5b369NEXFrm8"
      },
      "source": [
        "##### Loading the data using tf.data and tf.image"
      ]
    },
    {
      "cell_type": "code",
      "metadata": {
        "id": "GAcUV3oZFmtK",
        "outputId": "bcaf1288-891c-44ab-c20e-e6cbf5af470e",
        "colab": {
          "base_uri": "https://localhost:8080/"
        }
      },
      "source": [
        "import numpy as np\n",
        "import tensorflow as tf\n",
        "tf.enable_eager_execution()"
      ],
      "execution_count": 7,
      "outputs": [
        {
          "output_type": "stream",
          "text": [
            "/usr/local/lib/python3.6/dist-packages/tensorflow/python/framework/dtypes.py:526: FutureWarning: Passing (type, 1) or '1type' as a synonym of type is deprecated; in a future version of numpy, it will be understood as (type, (1,)) / '(1,)type'.\n",
            "  _np_qint8 = np.dtype([(\"qint8\", np.int8, 1)])\n",
            "/usr/local/lib/python3.6/dist-packages/tensorflow/python/framework/dtypes.py:527: FutureWarning: Passing (type, 1) or '1type' as a synonym of type is deprecated; in a future version of numpy, it will be understood as (type, (1,)) / '(1,)type'.\n",
            "  _np_quint8 = np.dtype([(\"quint8\", np.uint8, 1)])\n",
            "/usr/local/lib/python3.6/dist-packages/tensorflow/python/framework/dtypes.py:528: FutureWarning: Passing (type, 1) or '1type' as a synonym of type is deprecated; in a future version of numpy, it will be understood as (type, (1,)) / '(1,)type'.\n",
            "  _np_qint16 = np.dtype([(\"qint16\", np.int16, 1)])\n",
            "/usr/local/lib/python3.6/dist-packages/tensorflow/python/framework/dtypes.py:529: FutureWarning: Passing (type, 1) or '1type' as a synonym of type is deprecated; in a future version of numpy, it will be understood as (type, (1,)) / '(1,)type'.\n",
            "  _np_quint16 = np.dtype([(\"quint16\", np.uint16, 1)])\n",
            "/usr/local/lib/python3.6/dist-packages/tensorflow/python/framework/dtypes.py:530: FutureWarning: Passing (type, 1) or '1type' as a synonym of type is deprecated; in a future version of numpy, it will be understood as (type, (1,)) / '(1,)type'.\n",
            "  _np_qint32 = np.dtype([(\"qint32\", np.int32, 1)])\n",
            "/usr/local/lib/python3.6/dist-packages/tensorflow/python/framework/dtypes.py:535: FutureWarning: Passing (type, 1) or '1type' as a synonym of type is deprecated; in a future version of numpy, it will be understood as (type, (1,)) / '(1,)type'.\n",
            "  np_resource = np.dtype([(\"resource\", np.ubyte, 1)])\n"
          ],
          "name": "stderr"
        }
      ]
    },
    {
      "cell_type": "code",
      "metadata": {
        "id": "fRngb5UlFyPm",
        "outputId": "5a8bd699-855f-42f8-c155-552c2896872b",
        "colab": {
          "base_uri": "https://localhost:8080/"
        }
      },
      "source": [
        "# Example code for handling datasets\n",
        "import matplotlib.pyplot as plt\n",
        "\n",
        "# Load filenames and labels\n",
        "filenames = tf.constant(train_data.iloc[:, 0].tolist())\n",
        "labels = tf.constant(train_data.iloc[:, 1:].values)\n",
        "\n",
        "# Add to a dataset object\n",
        "dataset = tf.data.Dataset.from_tensor_slices((filenames, labels))\n",
        "\n",
        "# We can debug using eager execution\n",
        "for img, labels in dataset.batch(4).take(1):\n",
        "  print(img)\n",
        "  print(labels)"
      ],
      "execution_count": 8,
      "outputs": [
        {
          "output_type": "stream",
          "text": [
            "WARNING:tensorflow:From /usr/local/lib/python3.6/dist-packages/tensorflow/python/data/ops/iterator_ops.py:532: colocate_with (from tensorflow.python.framework.ops) is deprecated and will be removed in a future version.\n",
            "Instructions for updating:\n",
            "Colocations handled automatically by placer.\n",
            "tf.Tensor(\n",
            "[b'lfw_5590/Aaron_Eckhart_0001.jpg' b'lfw_5590/Aaron_Guiel_0001.jpg'\n",
            " b'lfw_5590/Aaron_Peirsol_0001.jpg' b'lfw_5590/Aaron_Pena_0001.jpg'], shape=(4,), dtype=string)\n",
            "tf.Tensor(\n",
            "[[107.25 147.75 126.25 106.25 140.75 108.75 113.25 143.75 158.75 162.75\n",
            "    1.     2.     2.     3.  ]\n",
            " [101.25 146.75 125.25  93.75 139.75 112.25 117.75 137.75 160.75 164.75\n",
            "    1.     1.     2.     3.  ]\n",
            " [107.75 147.75 130.25 109.25 147.75 114.25 114.25 140.75 154.25 153.75\n",
            "    1.     1.     2.     3.  ]\n",
            " [102.75 146.25 126.25 120.75 147.25 117.75 104.75 137.75 164.75 156.75\n",
            "    1.     2.     2.     3.  ]], shape=(4, 14), dtype=float64)\n"
          ],
          "name": "stdout"
        }
      ]
    },
    {
      "cell_type": "markdown",
      "metadata": {
        "id": "SHyCZe0-GjV3"
      },
      "source": [
        "### The ‘channels’ parameter allows to load both colour and b/w images in a single line; we resize all images to our desired format (40x40, in accordance with the original paper); on line 8, we also normalize our landmark labels to denote a relative location between 0 and 1, instead of an absolute one (since we resized all images, and images might come with different shapes)"
      ]
    },
    {
      "cell_type": "code",
      "metadata": {
        "id": "JDQMYpAPF1f8"
      },
      "source": [
        "def _parse_function(filename, label):\n",
        "  image_string = tf.read_file(filename) \n",
        "  image_decoded = tf.image.decode_jpeg(image_string, channels=3) # Channels needed because some test images are b/w\n",
        "  image_resized = tf.image.resize_images(image_decoded, [40, 40])\n",
        "  image_shape = tf.cast(tf.shape(image_decoded), tf.float32)\n",
        "  label = tf.concat([label[0:5] / image_shape[0], label[5:10] / image_shape[1], label[10:]], axis=0)\n",
        "  return {\"x\": image_resized}, label"
      ],
      "execution_count": 9,
      "outputs": []
    },
    {
      "cell_type": "code",
      "metadata": {
        "id": "u3jaioTaGsTq"
      },
      "source": [
        "# This snippet is adapted from here: https://www.tensorflow.org/guide/datasets\n",
        "def input_fn(dataframe, is_eval=False):\n",
        "\n",
        "  # Load the list of files\n",
        "  filenames = tf.constant(dataframe.iloc[:, 0].tolist())\n",
        "\n",
        "  # Load the labels\n",
        "  labels = tf.constant(dataframe.iloc[:, 1:].values.astype(np.float32))\n",
        "\n",
        "  # Build the dataset with image processing on top of it\n",
        "  dataset = tf.data.Dataset.from_tensor_slices((filenames, labels))\n",
        "  dataset = dataset.map(_parse_function)\n",
        "\n",
        "  # Add shuffling and repeatition if training\n",
        "  if is_eval:\n",
        "    dataset = dataset.batch(64)\n",
        "  else:\n",
        "    dataset = dataset.repeat().shuffle(1000).batch(64)\n",
        "  \n",
        "  return dataset"
      ],
      "execution_count": 10,
      "outputs": []
    },
    {
      "cell_type": "code",
      "metadata": {
        "id": "Tg4GWbSRINeK",
        "outputId": "76aeef83-e551-4d5e-add1-a52bbdc478b7",
        "colab": {
          "base_uri": "https://localhost:8080/",
          "height": 318
        }
      },
      "source": [
        "import matplotlib.pyplot as plt\n",
        "for (imgs, labels) in input_fn(train_data, is_eval=True).take(1):\n",
        "  plt.imshow(imgs['x'][0] / 255)\n",
        "  print(labels[0])"
      ],
      "execution_count": 11,
      "outputs": [
        {
          "output_type": "stream",
          "text": [
            "tf.Tensor(\n",
            "[0.429 0.591 0.505 0.425 0.563 0.435 0.453 0.575 0.635 0.651 1.    2.\n",
            " 2.    3.   ], shape=(14,), dtype=float32)\n"
          ],
          "name": "stdout"
        },
        {
          "output_type": "display_data",
          "data": {
            "image/png": "[encoded data removed]",
            "text/plain": [
              "<Figure size 432x288 with 1 Axes>"
            ]
          },
          "metadata": {
            "tags": [],
            "needs_background": "light"
          }
        }
      ]
    },
    {
      "cell_type": "markdown",
      "metadata": {
        "id": "kxB3pbOXHJHi"
      },
      "source": [
        "### building a CNN with custom estimator"
      ]
    },
    {
      "cell_type": "code",
      "metadata": {
        "id": "Sqmy_SJHG1x3"
      },
      "source": [
        "# Reimplement the feature extraction from the original paper\n",
        "def extract_features(features):\n",
        "  # Input layer\n",
        "  input_layer = tf.reshape(features[\"x\"], [-1, 40, 40, 3])\n",
        "\n",
        "  # First convolutive layer\n",
        "  conv1 = tf.layers.conv2d(inputs=input_layer, filters=16, kernel_size=[5, 5], padding=\"same\", activation=tf.nn.relu)\n",
        "  pool1 = tf.layers.max_pooling2d(inputs=conv1, pool_size=[2, 2], strides=2)\n",
        "\n",
        "  # Second convolutive layer\n",
        "  conv2 = tf.layers.conv2d(inputs=pool1, filters=48, kernel_size=[3, 3], padding=\"same\", activation=tf.nn.relu)\n",
        "  pool2 = tf.layers.max_pooling2d(inputs=conv2, pool_size=[2, 2], strides=2)\n",
        "  \n",
        "  # Third convolutive layer\n",
        "  conv3 = tf.layers.conv2d(inputs=pool2, filters=64, kernel_size=[3, 3], padding=\"same\", activation=tf.nn.relu)\n",
        "  pool3 = tf.layers.max_pooling2d(inputs=conv3, pool_size=[2, 2], strides=2)\n",
        "  \n",
        "  # Fourth convolutive layer\n",
        "  conv4 = tf.layers.conv2d(inputs=pool3, filters=64, kernel_size=[2, 2], padding=\"same\", activation=tf.nn.relu)\n",
        "  \n",
        "  # Dense Layer\n",
        "  flat = tf.reshape(conv4, [-1, 5 * 5 * 64])\n",
        "  dense = tf.layers.dense(inputs=flat, units=100, activation=tf.nn.relu)\n",
        "  \n",
        "  return dense"
      ],
      "execution_count": 12,
      "outputs": []
    },
    {
      "cell_type": "markdown",
      "metadata": {
        "id": "bGStpaw9HeOO"
      },
      "source": [
        "#### Single task "
      ]
    },
    {
      "cell_type": "code",
      "metadata": {
        "id": "_leU7uHgHSGc"
      },
      "source": [
        "def single_task_cnn_model_fn(features, labels, mode):\n",
        "  \n",
        "  # Get features\n",
        "  dense = extract_features(features)\n",
        "  \n",
        "  # Make predictions\n",
        "  predictions = tf.layers.dense(inputs=dense, units=2)\n",
        "\n",
        "  outputs = {\n",
        "      \"predictions\": predictions\n",
        "  }\n",
        "\n",
        "  # We just want the predictions\n",
        "  if mode == tf.estimator.ModeKeys.PREDICT:\n",
        "    return tf.estimator.EstimatorSpec(mode=mode, predictions=outputs)\n",
        "\n",
        "  # If not in mode.PREDICT, compute the loss (mean squared error)\n",
        "  loss = tf.losses.mean_squared_error(labels=labels[:, 2:8:5], predictions=predictions)\n",
        "\n",
        "  # Single optimization step\n",
        "  if mode == tf.estimator.ModeKeys.TRAIN:\n",
        "    optimizer = tf.train.AdamOptimizer()\n",
        "    train_op = optimizer.minimize(loss=loss, global_step=tf.train.get_global_step())\n",
        "    return tf.estimator.EstimatorSpec(mode=mode, loss=loss, train_op=train_op)\n",
        "\n",
        "  # If not PREDICT or TRAIN, then we are evaluating the model\n",
        "  eval_metric_ops = {\n",
        "      \"rmse\": tf.metrics.root_mean_squared_error(\n",
        "          labels=labels[:, 2:8:5], predictions=outputs[\"predictions\"])}\n",
        "  return tf.estimator.EstimatorSpec(\n",
        "      mode=mode, loss=loss, eval_metric_ops=eval_metric_ops)"
      ],
      "execution_count": 13,
      "outputs": []
    },
    {
      "cell_type": "code",
      "metadata": {
        "id": "eIIv2wIgHgBU",
        "outputId": "024c69dd-9081-44f8-ea47-33e9d48dff80",
        "colab": {
          "base_uri": "https://localhost:8080/"
        }
      },
      "source": [
        "single_task_classifier = tf.estimator.Estimator(\n",
        "    model_fn=single_task_cnn_model_fn)"
      ],
      "execution_count": 14,
      "outputs": [
        {
          "output_type": "stream",
          "text": [
            "INFO:tensorflow:Using default config.\n",
            "WARNING:tensorflow:Using temporary folder as model directory: /tmp/tmpd_pppd3w\n",
            "INFO:tensorflow:Using config: {'_model_dir': '/tmp/tmpd_pppd3w', '_tf_random_seed': None, '_save_summary_steps': 100, '_save_checkpoints_steps': None, '_save_checkpoints_secs': 600, '_session_config': allow_soft_placement: true\n",
            "graph_options {\n",
            "  rewrite_options {\n",
            "    meta_optimizer_iterations: ONE\n",
            "  }\n",
            "}\n",
            ", '_keep_checkpoint_max': 5, '_keep_checkpoint_every_n_hours': 10000, '_log_step_count_steps': 100, '_train_distribute': None, '_device_fn': None, '_protocol': None, '_eval_distribute': None, '_experimental_distribute': None, '_service': None, '_cluster_spec': <tensorflow.python.training.server_lib.ClusterSpec object at 0x7fab32ed5e10>, '_task_type': 'worker', '_task_id': 0, '_global_id_in_cluster': 0, '_master': '', '_evaluation_master': '', '_is_chief': True, '_num_ps_replicas': 0, '_num_worker_replicas': 1}\n"
          ],
          "name": "stdout"
        }
      ]
    },
    {
      "cell_type": "markdown",
      "metadata": {
        "id": "_BMwtv6uHliw"
      },
      "source": [
        "### Train the model"
      ]
    },
    {
      "cell_type": "code",
      "metadata": {
        "id": "Yo-UnRaaHjhF",
        "outputId": "eb14229f-6290-48fb-9880-3a393d59e775",
        "colab": {
          "base_uri": "https://localhost:8080/"
        }
      },
      "source": [
        "single_task_classifier.train(input_fn=lambda: input_fn(train_data), steps=2000)"
      ],
      "execution_count": 15,
      "outputs": [
        {
          "output_type": "stream",
          "text": [
            "INFO:tensorflow:Calling model_fn.\n",
            "WARNING:tensorflow:From <ipython-input-12-00bad907aa3c>:7: conv2d (from tensorflow.python.layers.convolutional) is deprecated and will be removed in a future version.\n",
            "Instructions for updating:\n",
            "Use keras.layers.conv2d instead.\n",
            "WARNING:tensorflow:From <ipython-input-12-00bad907aa3c>:8: max_pooling2d (from tensorflow.python.layers.pooling) is deprecated and will be removed in a future version.\n",
            "Instructions for updating:\n",
            "Use keras.layers.max_pooling2d instead.\n",
            "WARNING:tensorflow:From <ipython-input-12-00bad907aa3c>:23: dense (from tensorflow.python.layers.core) is deprecated and will be removed in a future version.\n",
            "Instructions for updating:\n",
            "Use keras.layers.dense instead.\n",
            "WARNING:tensorflow:From /usr/local/lib/python3.6/dist-packages/tensorflow/python/ops/losses/losses_impl.py:667: to_float (from tensorflow.python.ops.math_ops) is deprecated and will be removed in a future version.\n",
            "Instructions for updating:\n",
            "Use tf.cast instead.\n",
            "INFO:tensorflow:Done calling model_fn.\n",
            "INFO:tensorflow:Create CheckpointSaverHook.\n",
            "INFO:tensorflow:Graph was finalized.\n",
            "INFO:tensorflow:Running local_init_op.\n",
            "INFO:tensorflow:Done running local_init_op.\n",
            "INFO:tensorflow:Saving checkpoints for 0 into /tmp/tmpd_pppd3w/model.ckpt.\n",
            "INFO:tensorflow:loss = 138.92953, step = 1\n",
            "INFO:tensorflow:global_step/sec: 4.23519\n",
            "INFO:tensorflow:loss = 0.1641745, step = 101 (23.614 sec)\n",
            "INFO:tensorflow:global_step/sec: 4.5172\n",
            "INFO:tensorflow:loss = 0.122994274, step = 201 (22.140 sec)\n",
            "INFO:tensorflow:global_step/sec: 4.25318\n",
            "INFO:tensorflow:loss = 0.09741178, step = 301 (23.510 sec)\n",
            "INFO:tensorflow:global_step/sec: 4.26968\n",
            "INFO:tensorflow:loss = 0.058827132, step = 401 (23.423 sec)\n",
            "INFO:tensorflow:global_step/sec: 4.37971\n",
            "INFO:tensorflow:loss = 0.04870153, step = 501 (22.832 sec)\n",
            "INFO:tensorflow:global_step/sec: 4.25153\n",
            "INFO:tensorflow:loss = 0.032878246, step = 601 (23.519 sec)\n",
            "INFO:tensorflow:global_step/sec: 4.35914\n",
            "INFO:tensorflow:loss = 0.028364442, step = 701 (22.942 sec)\n",
            "INFO:tensorflow:global_step/sec: 4.3398\n",
            "INFO:tensorflow:loss = 0.02253424, step = 801 (23.041 sec)\n",
            "INFO:tensorflow:global_step/sec: 4.25861\n",
            "INFO:tensorflow:loss = 0.018204203, step = 901 (23.484 sec)\n",
            "INFO:tensorflow:global_step/sec: 4.41901\n",
            "INFO:tensorflow:loss = 0.012610815, step = 1001 (22.627 sec)\n",
            "INFO:tensorflow:global_step/sec: 4.31378\n",
            "INFO:tensorflow:loss = 0.016134048, step = 1101 (23.182 sec)\n",
            "INFO:tensorflow:global_step/sec: 4.19298\n",
            "INFO:tensorflow:loss = 0.01174592, step = 1201 (23.849 sec)\n",
            "INFO:tensorflow:global_step/sec: 4.35713\n",
            "INFO:tensorflow:loss = 0.009171827, step = 1301 (22.954 sec)\n",
            "INFO:tensorflow:global_step/sec: 4.2267\n",
            "INFO:tensorflow:loss = 0.011246729, step = 1401 (23.656 sec)\n",
            "INFO:tensorflow:global_step/sec: 4.17095\n",
            "INFO:tensorflow:loss = 0.010196912, step = 1501 (23.976 sec)\n",
            "INFO:tensorflow:global_step/sec: 4.40168\n",
            "INFO:tensorflow:loss = 0.010438989, step = 1601 (22.721 sec)\n",
            "INFO:tensorflow:global_step/sec: 4.14858\n",
            "INFO:tensorflow:loss = 0.008482441, step = 1701 (24.102 sec)\n",
            "INFO:tensorflow:global_step/sec: 4.1824\n",
            "INFO:tensorflow:loss = 0.009322524, step = 1801 (23.909 sec)\n",
            "INFO:tensorflow:global_step/sec: 4.26957\n",
            "INFO:tensorflow:loss = 0.006696105, step = 1901 (23.425 sec)\n",
            "INFO:tensorflow:Saving checkpoints for 2000 into /tmp/tmpd_pppd3w/model.ckpt.\n",
            "INFO:tensorflow:Loss for final step: 0.006290487.\n"
          ],
          "name": "stdout"
        },
        {
          "output_type": "execute_result",
          "data": {
            "text/plain": [
              "<tensorflow_estimator.python.estimator.estimator.Estimator at 0x7fab32ed5cf8>"
            ]
          },
          "metadata": {
            "tags": []
          },
          "execution_count": 15
        }
      ]
    },
    {
      "cell_type": "markdown",
      "metadata": {
        "id": "vNpYi_U6Oi1Z"
      },
      "source": [
        "#### Evaluate model"
      ]
    },
    {
      "cell_type": "code",
      "metadata": {
        "id": "iEHOYDJPHn29",
        "outputId": "9e1d984f-dbf3-4b2f-f7fd-48729e7d478b",
        "colab": {
          "base_uri": "https://localhost:8080/"
        }
      },
      "source": [
        "single_task_classifier.evaluate(input_fn=lambda: input_fn(test_data, is_eval=True))"
      ],
      "execution_count": 16,
      "outputs": [
        {
          "output_type": "stream",
          "text": [
            "INFO:tensorflow:Calling model_fn.\n",
            "INFO:tensorflow:Done calling model_fn.\n",
            "INFO:tensorflow:Starting evaluation at 2020-10-30T06:45:42Z\n",
            "INFO:tensorflow:Graph was finalized.\n",
            "WARNING:tensorflow:From /usr/local/lib/python3.6/dist-packages/tensorflow/python/training/saver.py:1266: checkpoint_exists (from tensorflow.python.training.checkpoint_management) is deprecated and will be removed in a future version.\n",
            "Instructions for updating:\n",
            "Use standard file APIs to check for files with this prefix.\n",
            "INFO:tensorflow:Restoring parameters from /tmp/tmpd_pppd3w/model.ckpt-2000\n",
            "INFO:tensorflow:Running local_init_op.\n",
            "INFO:tensorflow:Done running local_init_op.\n",
            "INFO:tensorflow:Finished evaluation at 2020-10-30-06:45:48\n",
            "INFO:tensorflow:Saving dict for global step 2000: global_step = 2000, loss = 0.013137344, rmse = 0.11459168\n",
            "INFO:tensorflow:Saving 'checkpoint_path' summary for global step 2000: /tmp/tmpd_pppd3w/model.ckpt-2000\n"
          ],
          "name": "stdout"
        },
        {
          "output_type": "execute_result",
          "data": {
            "text/plain": [
              "{'global_step': 2000, 'loss': 0.013137344, 'rmse': 0.11459168}"
            ]
          },
          "metadata": {
            "tags": []
          },
          "execution_count": 16
        }
      ]
    },
    {
      "cell_type": "markdown",
      "metadata": {
        "id": "tcQVO279OlAH"
      },
      "source": [
        "#### Predict"
      ]
    },
    {
      "cell_type": "code",
      "metadata": {
        "id": "suPXdWgfOoPH",
        "outputId": "969ac136-1fa9-43d5-b44b-1e23f17f46c4",
        "colab": {
          "base_uri": "https://localhost:8080/"
        }
      },
      "source": [
        "p = list(single_task_classifier.predict(lambda: input_fn(test_data, is_eval=True)))"
      ],
      "execution_count": 17,
      "outputs": [
        {
          "output_type": "stream",
          "text": [
            "INFO:tensorflow:Calling model_fn.\n",
            "INFO:tensorflow:Done calling model_fn.\n",
            "INFO:tensorflow:Graph was finalized.\n",
            "INFO:tensorflow:Restoring parameters from /tmp/tmpd_pppd3w/model.ckpt-2000\n",
            "INFO:tensorflow:Running local_init_op.\n",
            "INFO:tensorflow:Done running local_init_op.\n"
          ],
          "name": "stdout"
        }
      ]
    },
    {
      "cell_type": "markdown",
      "metadata": {
        "id": "lSiJ57_gOo3S"
      },
      "source": [
        "#### Evaluate a single prediction"
      ]
    },
    {
      "cell_type": "code",
      "metadata": {
        "id": "zRe5dhrcOskW",
        "outputId": "06347d4f-20f2-4097-d9aa-f69354261127",
        "colab": {
          "base_uri": "https://localhost:8080/",
          "height": 267
        }
      },
      "source": [
        "for imgs, _ in input_fn(test_data, is_eval=True).take(1):\n",
        "  img_idx = 1\n",
        "  plt.imshow(imgs[\"x\"][img_idx] / 255)\n",
        "  plt.scatter(p[img_idx]['predictions'][0] * 40, p[img_idx]['predictions'][1] * 40, 500, marker='x', color='red', linewidth=5)"
      ],
      "execution_count": 18,
      "outputs": [
        {
          "output_type": "display_data",
          "data": {
            "image/png": "[encoded data removed]",
            "text/plain": [
              "<Figure size 432x288 with 1 Axes>"
            ]
          },
          "metadata": {
            "tags": [],
            "needs_background": "light"
          }
        }
      ]
    },
    {
      "cell_type": "code",
      "metadata": {
        "id": "qICBIfaJQYWS"
      },
      "source": [
        "def single_head_cnn_model_fn(features, labels, mode):\n",
        "  \n",
        "  dense = extract_features(features)\n",
        "  \n",
        "  # Predictions\n",
        "  predictions = tf.layers.dense(inputs=dense, units=2)\n",
        "\n",
        "  # Optimizer\n",
        "  optimizer = tf.train.AdamOptimizer()\n",
        "  \n",
        "  # Define the head\n",
        "  regression_head = tf.contrib.estimator.regression_head(label_dimension=2)\n",
        "  return regression_head.create_estimator_spec(features, mode, predictions, labels[:, 2:8:5], optimizer)"
      ],
      "execution_count": 19,
      "outputs": []
    },
    {
      "cell_type": "code",
      "metadata": {
        "id": "DAMENuk0QmVV",
        "outputId": "e59a3bbe-6e00-43e5-cd98-be108e1c4d1b",
        "colab": {
          "base_uri": "https://localhost:8080/"
        }
      },
      "source": [
        "# Create the Estimator\n",
        "cnn_classifier = tf.estimator.Estimator(\n",
        "    model_fn=single_head_cnn_model_fn, model_dir=\"/tmp/cnn_single_head\")"
      ],
      "execution_count": 20,
      "outputs": [
        {
          "output_type": "stream",
          "text": [
            "INFO:tensorflow:Using default config.\n",
            "INFO:tensorflow:Using config: {'_model_dir': '/tmp/cnn_single_head', '_tf_random_seed': None, '_save_summary_steps': 100, '_save_checkpoints_steps': None, '_save_checkpoints_secs': 600, '_session_config': allow_soft_placement: true\n",
            "graph_options {\n",
            "  rewrite_options {\n",
            "    meta_optimizer_iterations: ONE\n",
            "  }\n",
            "}\n",
            ", '_keep_checkpoint_max': 5, '_keep_checkpoint_every_n_hours': 10000, '_log_step_count_steps': 100, '_train_distribute': None, '_device_fn': None, '_protocol': None, '_eval_distribute': None, '_experimental_distribute': None, '_service': None, '_cluster_spec': <tensorflow.python.training.server_lib.ClusterSpec object at 0x7fab32ed5c88>, '_task_type': 'worker', '_task_id': 0, '_global_id_in_cluster': 0, '_master': '', '_evaluation_master': '', '_is_chief': True, '_num_ps_replicas': 0, '_num_worker_replicas': 1}\n"
          ],
          "name": "stdout"
        }
      ]
    },
    {
      "cell_type": "markdown",
      "metadata": {
        "id": "ecJLZV-qQq_e"
      },
      "source": [
        "## Multi Task Learning"
      ]
    },
    {
      "cell_type": "code",
      "metadata": {
        "id": "1RbczfqnQpm9"
      },
      "source": [
        "import numpy as np\n",
        "import tensorflow as tf"
      ],
      "execution_count": 21,
      "outputs": []
    },
    {
      "cell_type": "code",
      "metadata": {
        "id": "gdFZLyXKQuQO"
      },
      "source": [
        "def multihead_input_fn(data, is_eval=False):\n",
        "  features, labels = input_fn(data, is_eval=is_eval).make_one_shot_iterator().get_next() # Why?\n",
        "  return features, {'head_nose': labels[:, 2:8:5], 'head_pose': tf.cast(labels[:, -1] - 1.0, tf.int32)}"
      ],
      "execution_count": 22,
      "outputs": []
    },
    {
      "cell_type": "code",
      "metadata": {
        "id": "deUC07GDQv-J"
      },
      "source": [
        "def multi_head_cnn_model_fn(features, labels, mode):\n",
        "  \n",
        "  dense = extract_features(features)\n",
        "  \n",
        "  # Predictions for each task\n",
        "  predictions_nose = tf.layers.dense(inputs=dense, units=2)\n",
        "  predictions_pose = tf.layers.dense(inputs=dense, units=5)\n",
        "  logits = {'head_nose': predictions_nose, 'head_pose': predictions_pose}\n",
        "  \n",
        "  # Optimizer\n",
        "  optimizer = tf.train.AdamOptimizer()\n",
        "\n",
        "  # Double head\n",
        "  regression_head = tf.contrib.estimator.regression_head(name='head_nose', label_dimension=2)\n",
        "  classification_head = tf.contrib.estimator.multi_class_head(name='head_pose', n_classes=5)\n",
        "  \n",
        "  # Multi head combining two single heads\n",
        "  multi_head = tf.contrib.estimator.multi_head([regression_head, classification_head])\n",
        "  \n",
        "  return multi_head.create_estimator_spec(features, mode, logits, labels, optimizer)"
      ],
      "execution_count": 23,
      "outputs": []
    },
    {
      "cell_type": "code",
      "metadata": {
        "id": "DoRPtCjpQ4k_",
        "outputId": "e458b0a7-0d76-441e-fb2d-e5c2de66fdf3",
        "colab": {
          "base_uri": "https://localhost:8080/"
        }
      },
      "source": [
        "# Create the Estimator\n",
        "multitask_classifier = tf.estimator.Estimator(model_fn=multi_head_cnn_model_fn)"
      ],
      "execution_count": 24,
      "outputs": [
        {
          "output_type": "stream",
          "text": [
            "INFO:tensorflow:Using default config.\n",
            "WARNING:tensorflow:Using temporary folder as model directory: /tmp/tmpbrz03ihd\n",
            "INFO:tensorflow:Using config: {'_model_dir': '/tmp/tmpbrz03ihd', '_tf_random_seed': None, '_save_summary_steps': 100, '_save_checkpoints_steps': None, '_save_checkpoints_secs': 600, '_session_config': allow_soft_placement: true\n",
            "graph_options {\n",
            "  rewrite_options {\n",
            "    meta_optimizer_iterations: ONE\n",
            "  }\n",
            "}\n",
            ", '_keep_checkpoint_max': 5, '_keep_checkpoint_every_n_hours': 10000, '_log_step_count_steps': 100, '_train_distribute': None, '_device_fn': None, '_protocol': None, '_eval_distribute': None, '_experimental_distribute': None, '_service': None, '_cluster_spec': <tensorflow.python.training.server_lib.ClusterSpec object at 0x7fab4d5fa668>, '_task_type': 'worker', '_task_id': 0, '_global_id_in_cluster': 0, '_master': '', '_evaluation_master': '', '_is_chief': True, '_num_ps_replicas': 0, '_num_worker_replicas': 1}\n"
          ],
          "name": "stdout"
        }
      ]
    },
    {
      "cell_type": "code",
      "metadata": {
        "id": "EAC44huRQ9eH",
        "outputId": "409d4783-1666-4179-8e69-773b535d7d4c",
        "colab": {
          "base_uri": "https://localhost:8080/"
        }
      },
      "source": [
        "# Train the model\n",
        "multitask_classifier.train(input_fn=lambda: multihead_input_fn(train_data), steps=1000)"
      ],
      "execution_count": 25,
      "outputs": [
        {
          "output_type": "stream",
          "text": [
            "INFO:tensorflow:Calling model_fn.\n",
            "\n",
            "WARNING: The TensorFlow contrib module will not be included in TensorFlow 2.0.\n",
            "For more information, please see:\n",
            "  * https://github.com/tensorflow/community/blob/master/rfcs/20180907-contrib-sunset.md\n",
            "  * https://github.com/tensorflow/addons\n",
            "If you depend on functionality not listed there, please file an issue.\n",
            "\n",
            "INFO:tensorflow:Done calling model_fn.\n",
            "INFO:tensorflow:Create CheckpointSaverHook.\n",
            "INFO:tensorflow:Graph was finalized.\n",
            "INFO:tensorflow:Running local_init_op.\n",
            "INFO:tensorflow:Done running local_init_op.\n",
            "INFO:tensorflow:Saving checkpoints for 0 into /tmp/tmpbrz03ihd/model.ckpt.\n",
            "INFO:tensorflow:loss = 66.66521, step = 1\n",
            "INFO:tensorflow:global_step/sec: 4.09673\n",
            "INFO:tensorflow:loss = 0.9142964, step = 101 (24.415 sec)\n",
            "INFO:tensorflow:global_step/sec: 4.31693\n",
            "INFO:tensorflow:loss = 0.7404702, step = 201 (23.163 sec)\n",
            "INFO:tensorflow:global_step/sec: 3.97559\n",
            "INFO:tensorflow:loss = 1.7313597, step = 301 (25.152 sec)\n",
            "INFO:tensorflow:global_step/sec: 4.18754\n",
            "INFO:tensorflow:loss = 0.94862676, step = 401 (23.882 sec)\n",
            "INFO:tensorflow:global_step/sec: 4.3055\n",
            "INFO:tensorflow:loss = 0.7007771, step = 501 (23.224 sec)\n",
            "INFO:tensorflow:global_step/sec: 4.10431\n",
            "INFO:tensorflow:loss = 1.0936658, step = 601 (24.367 sec)\n",
            "INFO:tensorflow:global_step/sec: 4.17391\n",
            "INFO:tensorflow:loss = 0.58219767, step = 701 (23.958 sec)\n",
            "INFO:tensorflow:global_step/sec: 4.18151\n",
            "INFO:tensorflow:loss = 0.52308375, step = 801 (23.917 sec)\n",
            "INFO:tensorflow:global_step/sec: 3.99617\n",
            "INFO:tensorflow:loss = 0.68711805, step = 901 (25.021 sec)\n",
            "INFO:tensorflow:Saving checkpoints for 1000 into /tmp/tmpbrz03ihd/model.ckpt.\n",
            "INFO:tensorflow:Loss for final step: 0.683159.\n"
          ],
          "name": "stdout"
        },
        {
          "output_type": "execute_result",
          "data": {
            "text/plain": [
              "<tensorflow_estimator.python.estimator.estimator.Estimator at 0x7fab4d5fa6a0>"
            ]
          },
          "metadata": {
            "tags": []
          },
          "execution_count": 25
        }
      ]
    },
    {
      "cell_type": "code",
      "metadata": {
        "id": "RIj3M4fsQ_Ag",
        "outputId": "15efabcb-7e50-4e5f-b34e-b3843496e17a",
        "colab": {
          "base_uri": "https://localhost:8080/"
        }
      },
      "source": [
        "  multitask_classifier.evaluate(input_fn=lambda: multihead_input_fn(test_data, is_eval=True))"
      ],
      "execution_count": 26,
      "outputs": [
        {
          "output_type": "stream",
          "text": [
            "INFO:tensorflow:Calling model_fn.\n",
            "INFO:tensorflow:Done calling model_fn.\n",
            "INFO:tensorflow:Starting evaluation at 2020-10-30T06:53:23Z\n",
            "INFO:tensorflow:Graph was finalized.\n",
            "INFO:tensorflow:Restoring parameters from /tmp/tmpbrz03ihd/model.ckpt-1000\n",
            "INFO:tensorflow:Running local_init_op.\n",
            "INFO:tensorflow:Done running local_init_op.\n",
            "INFO:tensorflow:Finished evaluation at 2020-10-30-06:53:28\n",
            "INFO:tensorflow:Saving dict for global step 1000: accuracy/head_pose = 0.6203673, average_loss/head_nose = 0.04183236, average_loss/head_pose = 1.1433985, global_step = 1000, label/mean/head_nose = 0.50384253, loss = 1.184652, loss/head_nose = 0.041811008, loss/head_pose = 1.1428407, prediction/mean/head_nose = 0.4672408\n",
            "INFO:tensorflow:Saving 'checkpoint_path' summary for global step 1000: /tmp/tmpbrz03ihd/model.ckpt-1000\n"
          ],
          "name": "stdout"
        },
        {
          "output_type": "execute_result",
          "data": {
            "text/plain": [
              "{'accuracy/head_pose': 0.6203673,\n",
              " 'average_loss/head_nose': 0.04183236,\n",
              " 'average_loss/head_pose': 1.1433985,\n",
              " 'global_step': 1000,\n",
              " 'label/mean/head_nose': 0.50384253,\n",
              " 'loss': 1.184652,\n",
              " 'loss/head_nose': 0.041811008,\n",
              " 'loss/head_pose': 1.1428407,\n",
              " 'prediction/mean/head_nose': 0.4672408}"
            ]
          },
          "metadata": {
            "tags": []
          },
          "execution_count": 26
        }
      ]
    },
    {
      "cell_type": "code",
      "metadata": {
        "id": "Dq08XQ1ARDRq",
        "outputId": "06a8ff98-2b8d-4dd0-878b-fc0963ed19bd",
        "colab": {
          "base_uri": "https://localhost:8080/"
        }
      },
      "source": [
        "p = list(multitask_classifier.predict(lambda: input_fn(test_data, is_eval=True)))\n",
        "print(p[0])"
      ],
      "execution_count": 27,
      "outputs": [
        {
          "output_type": "stream",
          "text": [
            "INFO:tensorflow:Calling model_fn.\n",
            "INFO:tensorflow:Done calling model_fn.\n",
            "INFO:tensorflow:Graph was finalized.\n",
            "INFO:tensorflow:Restoring parameters from /tmp/tmpbrz03ihd/model.ckpt-1000\n",
            "INFO:tensorflow:Running local_init_op.\n",
            "INFO:tensorflow:Done running local_init_op.\n",
            "{('head_nose', 'predictions'): array([0.3853868 , 0.11707626], dtype=float32), ('head_pose', 'logits'): array([-1.5268826 , -0.28901222,  1.5035806 ,  0.36334077, -1.2541883 ],\n",
            "      dtype=float32), ('head_pose', 'probabilities'): array([0.03022113, 0.10421038, 0.62578356, 0.20008948, 0.03969542],\n",
            "      dtype=float32), ('head_pose', 'class_ids'): array([2]), ('head_pose', 'classes'): array([b'2'], dtype=object)}\n"
          ],
          "name": "stdout"
        }
      ]
    },
    {
      "cell_type": "code",
      "metadata": {
        "id": "R_q-ibRjREtP",
        "outputId": "973f5ed9-4cc2-426e-e2ab-0cec2fa9b1a3",
        "colab": {
          "base_uri": "https://localhost:8080/",
          "height": 267
        }
      },
      "source": [
        "with tf.Session() as sess:\n",
        "  imgs = sess.run(input_fn(test_data, is_eval=True).make_one_shot_iterator().get_next())\n",
        "  \n",
        "  font = {'family': 'serif',\n",
        "        'color':  'white',\n",
        "        'weight': 'bold',\n",
        "        'size': 16,\n",
        "        }\n",
        "\n",
        "  img_idx = 4\n",
        "\n",
        "  prediction_eye = p[img_idx][(('head_nose', 'predictions'))]\n",
        "  prediction_pose = p[img_idx][(('head_pose', 'class_ids'))]\n",
        "  \n",
        "  plt.imshow(imgs[0][\"x\"][img_idx] / 255)\n",
        "  plt.scatter(prediction_eye[0] * 40, prediction_eye[1] * 40, 500, marker='x', color='red', linewidth=5)\n",
        "  plt.text(5, 3, 'Predicted pose: {}'.format(prediction_pose), fontdict=font)"
      ],
      "execution_count": 28,
      "outputs": [
        {
          "output_type": "display_data",
          "data": {
            "image/png": "[encoded data removed]",
            "text/plain": [
              "<Figure size 432x288 with 1 Axes>"
            ]
          },
          "metadata": {
            "tags": [],
            "needs_background": "light"
          }
        }
      ]
    },
    {
      "cell_type": "markdown",
      "metadata": {
        "id": "zy9Ic9i4SdQR"
      },
      "source": [
        "**node position and pose (frontal in this case)**"
      ]
    },
    {
      "cell_type": "code",
      "metadata": {
        "id": "c0Hb5QnsSUtx"
      },
      "source": [
        ""
      ],
      "execution_count": null,
      "outputs": []
    }
  ]
}