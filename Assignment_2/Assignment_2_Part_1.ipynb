{
  "nbformat": 4,
  "nbformat_minor": 0,
  "metadata": {
    "colab": {
      "name": "Assignment_2_Part_1.ipynb",
      "provenance": [],
      "authorship_tag": "ABX9TyMTM0hl0HytkYs+i1gcHyG/",
      "include_colab_link": true
    },
    "kernelspec": {
      "name": "python3",
      "display_name": "Python 3"
    },
    "accelerator": "GPU"
  },
  "cells": [
    {
      "cell_type": "markdown",
      "metadata": {
        "id": "view-in-github",
        "colab_type": "text"
      },
      "source": [
        "<a href=\"https://colab.research.google.com/github/Poohi5/CMPE297/blob/master/Assignment_2/Assignment_2_Part_1.ipynb\" target=\"_parent\"><img src=\"https://colab.research.google.com/assets/colab-badge.svg\" alt=\"Open In Colab\"/></a>"
      ]
    },
    {
      "cell_type": "markdown",
      "metadata": {
        "id": "PsY-1B4WW4gD",
        "colab_type": "text"
      },
      "source": [
        "#Build a linear classifier using low level tensorflow code and Gradient tape "
      ]
    },
    {
      "cell_type": "code",
      "metadata": {
        "id": "Y2RlK2d0YK6V",
        "colab_type": "code",
        "colab": {
          "base_uri": "https://localhost:8080/",
          "height": 34
        },
        "outputId": "0e947e1e-9946-45d0-fc5c-5f3fc1ed1cf7"
      },
      "source": [
        "import tensorflow as tf\n",
        "print(tf.__version__)"
      ],
      "execution_count": 1,
      "outputs": [
        {
          "output_type": "stream",
          "text": [
            "2.3.0\n"
          ],
          "name": "stdout"
        }
      ]
    },
    {
      "cell_type": "code",
      "metadata": {
        "id": "QNfQUvSWYXL_",
        "colab_type": "code",
        "colab": {
          "base_uri": "https://localhost:8080/",
          "height": 34
        },
        "outputId": "5dffd72c-eb01-44e7-a734-836ba349d62b"
      },
      "source": [
        "x = tf.constant(8.0) \n",
        "  \n",
        "# Using GradientTape \n",
        "with tf.GradientTape() as test: \n",
        "  test.watch(x) \n",
        "  y = x * x \n",
        "  \n",
        "# Computing gradient \n",
        "res  = test.gradient(y, x)  \n",
        "  \n",
        "# Printing result \n",
        "print(\"res: \",res) "
      ],
      "execution_count": 2,
      "outputs": [
        {
          "output_type": "stream",
          "text": [
            "res:  tf.Tensor(16.0, shape=(), dtype=float32)\n"
          ],
          "name": "stdout"
        }
      ]
    },
    {
      "cell_type": "markdown",
      "metadata": {
        "id": "Dopc8SzHYmc1",
        "colab_type": "text"
      },
      "source": [
        "**y = x by x, here x = 8 and since derivative of x^2 is 2x ,result is 2(18) = 16 **"
      ]
    },
    {
      "cell_type": "code",
      "metadata": {
        "id": "93NzOGpDYizX",
        "colab_type": "code",
        "colab": {
          "base_uri": "https://localhost:8080/",
          "height": 51
        },
        "outputId": "b612aca4-c48b-4660-a601-be0183363c49"
      },
      "source": [
        "x = tf.constant(8.0) \n",
        "  \n",
        "# Using GradientTape \n",
        "with tf.GradientTape() as testnew: \n",
        "  testnew.watch(x) \n",
        "  \n",
        "  # Using nested GradientTape for  \n",
        "  # calculating higher order derivative \n",
        "  with tf.GradientTape() as tt: \n",
        "    tt.watch(x) \n",
        "    y = x * x * x \n",
        "  \n",
        "  # Computing first order gradient \n",
        "  first_order = tt.gradient(y, x) \n",
        "  \n",
        "# Computing Second order gradient \n",
        "second_order  = testnew.gradient(first_order, x)  \n",
        "  \n",
        "# Printing result \n",
        "print(\"first_order: \",first_order) \n",
        "print(\"second_order: \",second_order)"
      ],
      "execution_count": 3,
      "outputs": [
        {
          "output_type": "stream",
          "text": [
            "first_order:  tf.Tensor(192.0, shape=(), dtype=float32)\n",
            "second_order:  tf.Tensor(48.0, shape=(), dtype=float32)\n"
          ],
          "name": "stdout"
        }
      ]
    },
    {
      "cell_type": "markdown",
      "metadata": {
        "id": "RaNeyaLbZMTu",
        "colab_type": "text"
      },
      "source": [
        "## Linear Classifier using GradientTape"
      ]
    },
    {
      "cell_type": "markdown",
      "metadata": {
        "id": "Xi6JJI-_ZVYd",
        "colab_type": "text"
      },
      "source": [
        "### Here using gradient tape we can classify positive and negative samples/numbers as shown below "
      ]
    },
    {
      "cell_type": "markdown",
      "metadata": {
        "id": "F0IZDj6GZpAy",
        "colab_type": "text"
      },
      "source": [
        "#### importing required packages/libraries"
      ]
    },
    {
      "cell_type": "code",
      "metadata": {
        "id": "E26PCvyhZIsj",
        "colab_type": "code",
        "colab": {}
      },
      "source": [
        "import numpy as np\n",
        "import random\n",
        "import matplotlib.pyplot as plt\n",
        "%matplotlib inline"
      ],
      "execution_count": 4,
      "outputs": []
    },
    {
      "cell_type": "markdown",
      "metadata": {
        "id": "F2gcw-hRZmiY",
        "colab_type": "text"
      },
      "source": [
        "#### Next, we will generate 1000 samples of both positive and negative samples from multivariate_normal distribution"
      ]
    },
    {
      "cell_type": "code",
      "metadata": {
        "id": "LWfpVhRJZhRm",
        "colab_type": "code",
        "colab": {}
      },
      "source": [
        "num_samples = 10000\n",
        "negative_samples = np.random.multivariate_normal(mean=[0, 3], cov=[[1, 0.5], [0.5, 1]], size=num_samples)\n",
        "positive_samples = np.random.multivariate_normal(mean=[3, 0], cov=[[1, 0.5], [0.5, 1]], size=num_samples)"
      ],
      "execution_count": 5,
      "outputs": []
    },
    {
      "cell_type": "markdown",
      "metadata": {
        "id": "MKaeDygvZ7Ch",
        "colab_type": "text"
      },
      "source": [
        "#### Plot the samples"
      ]
    },
    {
      "cell_type": "code",
      "metadata": {
        "id": "35MH7oDMZ3gB",
        "colab_type": "code",
        "colab": {
          "base_uri": "https://localhost:8080/",
          "height": 282
        },
        "outputId": "96863c57-71ff-486a-ee7e-469669665e8a"
      },
      "source": [
        "features = np.vstack((negative_samples, positive_samples)).astype(np.float32)\n",
        "labels = np.vstack((np.zeros((num_samples, 1), dtype='float32'),\n",
        "                    np.ones((num_samples, 1), dtype='float32')))\n",
        "\n",
        "plt.scatter(features[:, 0], features[:, 1], c=labels[:, 0])"
      ],
      "execution_count": 6,
      "outputs": [
        {
          "output_type": "execute_result",
          "data": {
            "text/plain": [
              "<matplotlib.collections.PathCollection at 0x7f6e50341da0>"
            ]
          },
          "metadata": {
            "tags": []
          },
          "execution_count": 6
        },
        {
          "output_type": "display_data",
          "data": {
            "image/png": "[encoded data removed]",
            "text/plain": [
              "<Figure size 432x288 with 1 Axes>"
            ]
          },
          "metadata": {
            "tags": [],
            "needs_background": "light"
          }
        }
      ]
    },
    {
      "cell_type": "markdown",
      "metadata": {
        "id": "FoOVn3AOZ-OM",
        "colab_type": "text"
      },
      "source": [
        "#### Linear Classifier"
      ]
    },
    {
      "cell_type": "code",
      "metadata": {
        "id": "rqIaSqs3Z8-K",
        "colab_type": "code",
        "colab": {}
      },
      "source": [
        "input_dim = 2\n",
        "output_dim = 1\n",
        "learning_rate = 0.01\n",
        "\n",
        "# This is our weight matrix\n",
        "w = tf.Variable(tf.random.uniform(shape=(input_dim, output_dim)))\n",
        "# This is our bias vector\n",
        "b = tf.Variable(tf.zeros(shape=(output_dim,)))\n",
        "\n",
        "def compute_predictions(features):\n",
        "  return tf.matmul(features, w) + b\n",
        "\n",
        "def compute_loss(labels, predictions):\n",
        "  return tf.reduce_mean(tf.square(labels - predictions))\n",
        "\n",
        "def train_on_batch(x, y):\n",
        "  with tf.GradientTape() as tape:\n",
        "    predictions = compute_predictions(x)\n",
        "    loss = compute_loss(y, predictions)\n",
        "    # Note that `tape.gradient` works with a list as well (w, b).\n",
        "    dloss_dw, dloss_db = tape.gradient(loss, [w, b])\n",
        "  w.assign_sub(learning_rate * dloss_dw)\n",
        "  b.assign_sub(learning_rate * dloss_db)\n",
        "  return loss"
      ],
      "execution_count": 7,
      "outputs": []
    },
    {
      "cell_type": "markdown",
      "metadata": {
        "id": "6QOCpauuaXf3",
        "colab_type": "text"
      },
      "source": [
        "#### Train the classifier on the dataset"
      ]
    },
    {
      "cell_type": "code",
      "metadata": {
        "id": "Lcs86wMzaUSa",
        "colab_type": "code",
        "colab": {
          "base_uri": "https://localhost:8080/",
          "height": 187
        },
        "outputId": "44b3cb2e-0e58-4dea-ad45-dba61598d63b"
      },
      "source": [
        "# Shuffle the data.\n",
        "indices = np.random.permutation(len(features))\n",
        "features = features[indices]\n",
        "labels = labels[indices]\n",
        "\n",
        "# Create a tf.data.Dataset object for easy batched iteration\n",
        "dataset = tf.data.Dataset.from_tensor_slices((features, labels))\n",
        "dataset = dataset.shuffle(buffer_size=1024).batch(256)\n",
        "\n",
        "for epoch in range(10):\n",
        "  for step, (x, y) in enumerate(dataset):\n",
        "    loss = train_on_batch(x, y)\n",
        "  print('Epoch %d: last batch loss = %.4f' % (epoch, float(loss)))"
      ],
      "execution_count": 8,
      "outputs": [
        {
          "output_type": "stream",
          "text": [
            "Epoch 0: last batch loss = 0.0701\n",
            "Epoch 1: last batch loss = 0.0498\n",
            "Epoch 2: last batch loss = 0.0435\n",
            "Epoch 3: last batch loss = 0.0273\n",
            "Epoch 4: last batch loss = 0.0352\n",
            "Epoch 5: last batch loss = 0.0237\n",
            "Epoch 6: last batch loss = 0.0273\n",
            "Epoch 7: last batch loss = 0.0321\n",
            "Epoch 8: last batch loss = 0.0406\n",
            "Epoch 9: last batch loss = 0.0213\n"
          ],
          "name": "stdout"
        }
      ]
    },
    {
      "cell_type": "markdown",
      "metadata": {
        "id": "ixbQ-xbJafKa",
        "colab_type": "text"
      },
      "source": [
        "#### Finally, show predictions"
      ]
    },
    {
      "cell_type": "code",
      "metadata": {
        "id": "FSaPrrmradfL",
        "colab_type": "code",
        "colab": {
          "base_uri": "https://localhost:8080/",
          "height": 282
        },
        "outputId": "28c71b75-643e-4872-e1e9-2e65ffbdada8"
      },
      "source": [
        "predictions = compute_predictions(features)\n",
        "plt.scatter(features[:, 0], features[:, 1], c=predictions[:, 0] > 0.5)"
      ],
      "execution_count": 9,
      "outputs": [
        {
          "output_type": "execute_result",
          "data": {
            "text/plain": [
              "<matplotlib.collections.PathCollection at 0x7f6e50012470>"
            ]
          },
          "metadata": {
            "tags": []
          },
          "execution_count": 9
        },
        {
          "output_type": "display_data",
          "data": {
            "image/png": "[encoded data removed]",
            "text/plain": [
              "<Figure size 432x288 with 1 Axes>"
            ]
          },
          "metadata": {
            "tags": [],
            "needs_background": "light"
          }
        }
      ]
    },
    {
      "cell_type": "code",
      "metadata": {
        "id": "-C7Olw0bajB8",
        "colab_type": "code",
        "colab": {}
      },
      "source": [
        ""
      ],
      "execution_count": null,
      "outputs": []
    }
  ]
}